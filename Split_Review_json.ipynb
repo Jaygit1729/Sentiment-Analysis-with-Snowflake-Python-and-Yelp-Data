{
 "cells": [
  {
   "cell_type": "code",
   "execution_count": 2,
   "id": "aa4b967d",
   "metadata": {},
   "outputs": [
    {
     "name": "stdout",
     "output_type": "stream",
     "text": [
      "Total lines: 6990280, Lines per file: 699028\n",
      "✅ File split completed.\n"
     ]
    }
   ],
   "source": [
    "input_file = r\"C:\\Users\\Jay Patel\\Downloads\\Yelp sentiment and data analysis\\Yelp-JSON\\Yelp JSON\\yelp_dataset\\yelp_academic_dataset_review.json\"\n",
    "output_prefix = \"split_file_\"\n",
    "num_files = 10\n",
    "\n",
    "# Read all lines (each line is a JSON object)\n",
    "with open(input_file, \"r\", encoding=\"utf8\") as f:\n",
    "    lines = f.readlines()\n",
    "\n",
    "total_lines = len(lines)\n",
    "lines_per_file = total_lines // num_files\n",
    "print(f\"Total lines: {total_lines}, Lines per file: {lines_per_file}\")\n",
    "\n",
    "# Split and write to smaller files\n",
    "for i in range(num_files):\n",
    "    start = i * lines_per_file\n",
    "    end = start + lines_per_file\n",
    "    chunk = lines[start:end]\n",
    "\n",
    "    with open(f\"{output_prefix}{i+1}.json\", \"w\", encoding=\"utf8\") as out_file:\n",
    "        out_file.writelines(chunk)\n",
    "\n",
    "print(\"✅ File split completed.\")\n"
   ]
  },
  {
   "cell_type": "code",
   "execution_count": null,
   "id": "7f7107df",
   "metadata": {},
   "outputs": [],
   "source": []
  }
 ],
 "metadata": {
  "kernelspec": {
   "display_name": "propnavigator_env",
   "language": "python",
   "name": "python3"
  },
  "language_info": {
   "codemirror_mode": {
    "name": "ipython",
    "version": 3
   },
   "file_extension": ".py",
   "mimetype": "text/x-python",
   "name": "python",
   "nbconvert_exporter": "python",
   "pygments_lexer": "ipython3",
   "version": "3.10.16"
  }
 },
 "nbformat": 4,
 "nbformat_minor": 5
}
